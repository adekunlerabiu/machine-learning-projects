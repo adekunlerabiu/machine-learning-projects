{
 "cells": [
  {
   "cell_type": "markdown",
   "id": "f679ecbe-e81f-495e-9fca-21e7dfb70a12",
   "metadata": {},
   "source": [
    "# 1. GPT-4o with Python API"
   ]
  },
  {
   "cell_type": "code",
   "execution_count": null,
   "id": "49a02fa8-752c-4a5b-9e40-29b33698ee9b",
   "metadata": {},
   "outputs": [],
   "source": [
    "!pip install openai"
   ]
  },
  {
   "cell_type": "code",
   "execution_count": null,
   "id": "260acb83-da9e-40d7-b788-7bf3e77cd420",
   "metadata": {},
   "outputs": [],
   "source": [
    "import openai\n",
    "print(openai.__version__)"
   ]
  },
  {
   "cell_type": "markdown",
   "id": "d3c25d3a-9c2d-4668-a5d2-df5e6ad76537",
   "metadata": {},
   "source": [
    "### Configuring OpenAI Key"
   ]
  },
  {
   "cell_type": "code",
   "execution_count": null,
   "id": "d282f9e6-6fa7-44f7-ab6a-850f694abd74",
   "metadata": {},
   "outputs": [],
   "source": [
    "#openai.api_key = \"\""
   ]
  },
  {
   "cell_type": "markdown",
   "id": "32c6ac49-b620-4c89-b12c-83ced2374c14",
   "metadata": {},
   "source": [
    "### Chat Completion"
   ]
  },
  {
   "cell_type": "code",
   "execution_count": null,
   "id": "37a8f032-84ed-4fbc-b137-cff3815f64dd",
   "metadata": {},
   "outputs": [],
   "source": [
    "response = openai.ChatCompletion.create(\n",
    "    model=\"gpt-4o\",\n",
    "    messages=[\n",
    "        {\"role\": \"system\", \"content\": \"You are a helpful assistant.\"},\n",
    "        {\"role\": \"user\", \"content\": \"Who won the World Series in 2020?\"},\n",
    "        {\"role\": \"assistant\", \"content\": \"The Los Angeles Dodgers won the World Series in 2020.\"},\n",
    "        {\"role\": \"user\", \"content\": \"Where was it played?\"}\n",
    "    ]\n",
    ")"
   ]
  },
  {
   "cell_type": "code",
   "execution_count": null,
   "id": "75e70ea3-1aa2-43f6-8026-704ddd157547",
   "metadata": {},
   "outputs": [],
   "source": [
    "response"
   ]
  },
  {
   "cell_type": "code",
   "execution_count": null,
   "id": "3e0549d3-f41c-47de-b706-d5e4216813ab",
   "metadata": {},
   "outputs": [],
   "source": [
    "print(response.choices[0].messages.content)"
   ]
  },
  {
   "cell_type": "code",
   "execution_count": null,
   "id": "4e8e968a-5382-4bbc-b246-1cb5cdb803a2",
   "metadata": {},
   "outputs": [],
   "source": [
    "response.choices[0].messages.content"
   ]
  },
  {
   "cell_type": "markdown",
   "id": "7c06c99c-4016-4bd3-b71d-ece83c855bb4",
   "metadata": {},
   "source": [
    "### Image Processing\n",
    "* Multi-modal input"
   ]
  },
  {
   "cell_type": "code",
   "execution_count": null,
   "id": "3625d35a-7581-43af-ab46-007816b084be",
   "metadata": {},
   "outputs": [],
   "source": [
    "response = openai.ChatCompletion.create(\n",
    "    model=\"gpt-4o\",\n",
    "    messages=[\n",
    "        {\"role\": \"system\", \"content\": \"You are a helpful assistant.\"},\n",
    "        {\n",
    "            \"role\":\"user\",\n",
    "            \"content\":[\n",
    "                {\"type\": \"text\", \"text\": \"what is in this image?\"},\n",
    "                {\n",
    "                    \"type\": \"image_url\",\n",
    "                    \"image_url\":{\n",
    "                        \"url\": \"data:image/jpeg;base64,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.jpg\",\n",
    "                    },\n",
    "                },\n",
    "            ],\n",
    "        }\n",
    "        \n",
    "    ],\n",
    "    max_tokens=300\n",
    ")"
   ]
  },
  {
   "cell_type": "code",
   "execution_count": null,
   "id": "e2a0605e-2747-4e2b-bf5a-c4d599a0f853",
   "metadata": {},
   "outputs": [],
   "source": [
    "print(response.choices[0].messages.content)"
   ]
  },
  {
   "cell_type": "code",
   "execution_count": null,
   "id": "5f2002e6-8abb-455c-814a-be67475ecda4",
   "metadata": {},
   "outputs": [],
   "source": [
    "response.choices[0].messages.content"
   ]
  },
  {
   "cell_type": "markdown",
   "id": "4513c932-611a-403d-ae4e-8278ed781ff8",
   "metadata": {},
   "source": [
    "# 2. GPT-4o with Langchain"
   ]
  },
  {
   "cell_type": "code",
   "execution_count": null,
   "id": "25c7f6ff-bd8b-40b4-a381-d585cfcaf265",
   "metadata": {},
   "outputs": [],
   "source": [
    "!pip install --upgrade langchain langchain_openai"
   ]
  },
  {
   "cell_type": "code",
   "execution_count": null,
   "id": "9d9c4512-c445-480f-9895-79c2297b81fb",
   "metadata": {},
   "outputs": [],
   "source": [
    "import os\n",
    "from langchain_openai import ChatOpenAi"
   ]
  },
  {
   "cell_type": "code",
   "execution_count": null,
   "id": "4cfade2d-78ea-4c82-b2b1-33ae5d2d379b",
   "metadata": {},
   "outputs": [],
   "source": [
    "os/environ[\"OPENAI_API_KEY\"] = \"sk-proj-wiFOKhO3kRkCP8JTnHhgT3BlbkFJDLDjaLJcJsAevQ60t7iN\""
   ]
  },
  {
   "cell_type": "code",
   "execution_count": null,
   "id": "cc6e140f-418b-44c6-9ec9-29cac696514e",
   "metadata": {},
   "outputs": [],
   "source": [
    "llm = ChatOpenAI(model=\"gpt-4o\", temperature=0)"
   ]
  },
  {
   "cell_type": "code",
   "execution_count": null,
   "id": "4875a234-2035-46ad-adad-131b4ea7abec",
   "metadata": {},
   "outputs": [],
   "source": [
    "message = [\n",
    "    (\"system\", \"You are a helpful assistant that translates English to French.\"),\n",
    "    (\"human\", \"Translate this sentence from English to French. I love programming.\")\n",
    "]"
   ]
  },
  {
   "cell_type": "code",
   "execution_count": null,
   "id": "29d72ea2-9b50-4d28-9a0d-ff9c593455bb",
   "metadata": {},
   "outputs": [],
   "source": [
    "response.llm.invoke(messages)"
   ]
  },
  {
   "cell_type": "code",
   "execution_count": null,
   "id": "e45f36f9-eb8b-494d-bf4e-69badfeb202b",
   "metadata": {},
   "outputs": [],
   "source": [
    "response"
   ]
  },
  {
   "cell_type": "code",
   "execution_count": null,
   "id": "4f5f293f-019e-4a89-853e-20b95a7b3761",
   "metadata": {},
   "outputs": [],
   "source": [
    "response.content"
   ]
  },
  {
   "cell_type": "markdown",
   "id": "28243937-e78a-4d6c-a92f-f06e1d4b446d",
   "metadata": {},
   "source": [
    "### Chaining\n",
    "* **Chain the LLM with a prompt template**"
   ]
  },
  {
   "cell_type": "code",
   "execution_count": null,
   "id": "ed47fb32-fe50-4910-883d-016993eb52b0",
   "metadata": {},
   "outputs": [],
   "source": [
    "from langchain_core.prompts import ChatPromptTemplate"
   ]
  },
  {
   "cell_type": "code",
   "execution_count": null,
   "id": "7140ed02-d91c-46d0-a43b-f02b4ab4b2ef",
   "metadata": {},
   "outputs": [],
   "source": [
    "prompt = ChatPromptTemplate.from_messages(\n",
    "    [\n",
    "        (\"system\", \"You are a helpful assistant that translates{input_language} to {outpu_language}\"),\n",
    "        (\"human\", \"{input}\")\n",
    "    ]\n",
    ")\n",
    "chain = prompt | llm\n",
    "response = chain.invoke(\n",
    "    {\n",
    "        \"input_language\": \"English\",\n",
    "        \"output_language\": \"German\",\n",
    "        \"input\": \"I love programming.\"\n",
    "    }\n",
    ")"
   ]
  },
  {
   "cell_type": "code",
   "execution_count": null,
   "id": "bd9d6d8b-f7f0-4911-8b6e-64da5c492cf2",
   "metadata": {},
   "outputs": [],
   "source": [
    "response"
   ]
  },
  {
   "cell_type": "code",
   "execution_count": null,
   "id": "1da43d50-5d59-447f-afb4-0b4d27d8de6c",
   "metadata": {},
   "outputs": [],
   "source": [
    "response.content"
   ]
  },
  {
   "cell_type": "code",
   "execution_count": null,
   "id": "5afe9660-1cbb-4968-b66c-445dc0b87434",
   "metadata": {},
   "outputs": [],
   "source": []
  },
  {
   "cell_type": "code",
   "execution_count": null,
   "id": "388952db-7762-4704-97e4-56045a453ef2",
   "metadata": {},
   "outputs": [],
   "source": []
  },
  {
   "cell_type": "code",
   "execution_count": null,
   "id": "692c64f8-00be-4e17-bda2-28c2b7c262b5",
   "metadata": {},
   "outputs": [],
   "source": []
  },
  {
   "cell_type": "code",
   "execution_count": null,
   "id": "b042ec51-730e-41c3-88cf-b10588c31d79",
   "metadata": {},
   "outputs": [],
   "source": []
  },
  {
   "cell_type": "code",
   "execution_count": null,
   "id": "a90029c7-a4e0-48c2-a930-7f48a94bf2ad",
   "metadata": {},
   "outputs": [],
   "source": []
  },
  {
   "cell_type": "code",
   "execution_count": null,
   "id": "60dfb390-0944-46d7-825b-2cc75a9a44b1",
   "metadata": {},
   "outputs": [],
   "source": []
  },
  {
   "cell_type": "code",
   "execution_count": null,
   "id": "b8ef4248-42d7-4989-9444-283fb5912a2e",
   "metadata": {},
   "outputs": [],
   "source": []
  },
  {
   "cell_type": "code",
   "execution_count": null,
   "id": "955a113c-8a90-4609-b562-c2689d9fedde",
   "metadata": {},
   "outputs": [],
   "source": []
  },
  {
   "cell_type": "code",
   "execution_count": null,
   "id": "48c9a06f-6602-49cc-9e4b-0ce87521bfdb",
   "metadata": {},
   "outputs": [],
   "source": []
  },
  {
   "cell_type": "code",
   "execution_count": null,
   "id": "69fbc544-029a-4307-ab72-7a9b265a6ce3",
   "metadata": {},
   "outputs": [],
   "source": []
  },
  {
   "cell_type": "code",
   "execution_count": null,
   "id": "35cabe2d-bb77-4aff-a4c7-14c23c294dec",
   "metadata": {},
   "outputs": [],
   "source": []
  },
  {
   "cell_type": "code",
   "execution_count": null,
   "id": "40ad1137-7aa3-4ce4-9194-974ae5b7ed78",
   "metadata": {},
   "outputs": [],
   "source": []
  },
  {
   "cell_type": "code",
   "execution_count": null,
   "id": "c33fd779-26fb-43cb-86f4-b0f687a2d70c",
   "metadata": {},
   "outputs": [],
   "source": []
  }
 ],
 "metadata": {
  "kernelspec": {
   "display_name": "CODE1",
   "language": "python",
   "name": "myvenv"
  },
  "language_info": {
   "codemirror_mode": {
    "name": "ipython",
    "version": 3
   },
   "file_extension": ".py",
   "mimetype": "text/x-python",
   "name": "python",
   "nbconvert_exporter": "python",
   "pygments_lexer": "ipython3",
   "version": "3.12.2"
  }
 },
 "nbformat": 4,
 "nbformat_minor": 5
}
