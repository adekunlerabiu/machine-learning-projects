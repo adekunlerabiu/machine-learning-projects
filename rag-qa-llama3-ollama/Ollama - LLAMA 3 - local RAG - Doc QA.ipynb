{
 "cells": [
  {
   "cell_type": "code",
   "execution_count": 1,
   "id": "f266f053-be61-421d-977c-d762179b2d6e",
   "metadata": {},
   "outputs": [],
   "source": [
    "#!pip install langchain-community==0.2.4 langchain==0.2.3 faiss-cpu==1.8.0 unstructured==0.14.5 unstructured[pdf]==0.14.5 transformers==4.41.2 sentence-transformers==3.0.1"
   ]
  },
  {
   "cell_type": "markdown",
   "id": "5d701705-b332-4084-8643-65de741bd5eb",
   "metadata": {},
   "source": [
    "**Importing the Dependencies**"
   ]
  },
  {
   "cell_type": "code",
   "execution_count": 5,
   "id": "24fae24c-433b-4860-badd-e0eb20759f4b",
   "metadata": {},
   "outputs": [],
   "source": [
    "import os\n",
    "\n",
    "from langchain_community.llms import Ollama\n",
    "from langchain.document_loaders import UnstructuredFileLoader\n",
    "from langchain_community.vectorstores import FAISS\n",
    "from langchain.embeddings import HuggingFaceEmbeddings\n",
    "from langchain.text_splitter import CharacterTextSplitter\n",
    "from langchain.chains import RetrievalQA"
   ]
  },
  {
   "cell_type": "code",
   "execution_count": 6,
   "id": "a025e4d6-ce3b-4e5d-bbc7-fd32c1118d6b",
   "metadata": {},
   "outputs": [],
   "source": [
    "# loading the LLM\n",
    "llm = Ollama(\n",
    "    model=\"llama3:instruct\",\n",
    "    temperature=0\n",
    ")"
   ]
  },
  {
   "cell_type": "code",
   "execution_count": 7,
   "id": "378c5f69-192c-4db7-bc73-68d1fdbc1b2d",
   "metadata": {},
   "outputs": [],
   "source": [
    "# loading the document\n",
    "loader = UnstructuredFileLoader(\"NIPS-2017-attention-is-all-you-need-Paper.pdf\")\n",
    "documents = loader.load()"
   ]
  },
  {
   "cell_type": "code",
   "execution_count": 9,
   "id": "e5d82c99-3c23-4870-b5ac-959cae3052e5",
   "metadata": {},
   "outputs": [],
   "source": [
    "# create document chunks\n",
    "text_splitter = CharacterTextSplitter(separator=\"/n\",\n",
    "                                      chunk_size=1000,\n",
    "                                      chunk_overlap=200)"
   ]
  },
  {
   "cell_type": "code",
   "execution_count": 11,
   "id": "9592702b-23d2-46ab-a87d-b5a940be82f6",
   "metadata": {},
   "outputs": [],
   "source": [
    "text_chunks = text_splitter.split_documents(documents)"
   ]
  },
  {
   "cell_type": "code",
   "execution_count": 12,
   "id": "64d5e44f-631c-4d05-939d-a8aaf37bdd9e",
   "metadata": {},
   "outputs": [
    {
     "name": "stderr",
     "output_type": "stream",
     "text": [
      "/home/ubuntu/myenv/lib/python3.12/site-packages/langchain_core/_api/deprecation.py:139: LangChainDeprecationWarning: The class `HuggingFaceEmbeddings` was deprecated in LangChain 0.2.2 and will be removed in 0.3.0. An updated version of the class exists in the langchain-huggingface package and should be used instead. To use it run `pip install -U langchain-huggingface` and import as `from langchain_huggingface import HuggingFaceEmbeddings`.\n",
      "  warn_deprecated(\n",
      "/home/ubuntu/myenv/lib/python3.12/site-packages/sentence_transformers/cross_encoder/CrossEncoder.py:11: TqdmExperimentalWarning: Using `tqdm.autonotebook.tqdm` in notebook mode. Use `tqdm.tqdm` instead to force console mode (e.g. in jupyter console)\n",
      "  from tqdm.autonotebook import tqdm, trange\n",
      "/home/ubuntu/myenv/lib/python3.12/site-packages/huggingface_hub/file_download.py:1132: FutureWarning: `resume_download` is deprecated and will be removed in version 1.0.0. Downloads always resume when possible. If you want to force a new download, use `force_download=True`.\n",
      "  warnings.warn(\n"
     ]
    }
   ],
   "source": [
    "# loading the vector embedding model\n",
    "embeddings = HuggingFaceEmbeddings()"
   ]
  },
  {
   "cell_type": "code",
   "execution_count": 15,
   "id": "7cb5e2be-76e5-49f3-a50a-d336be3d30e0",
   "metadata": {},
   "outputs": [],
   "source": [
    "knowledge_base = FAISS.from_documents(text_chunks, embeddings)"
   ]
  },
  {
   "cell_type": "code",
   "execution_count": 16,
   "id": "ab0d7fda-3c61-49db-b211-275c083175b7",
   "metadata": {},
   "outputs": [],
   "source": [
    "# retrieval QA chain\n",
    "qa_chain = RetrievalQA.from_chain_type(\n",
    "    llm,\n",
    "    retriever=knowledge_base.as_retriever())"
   ]
  },
  {
   "cell_type": "code",
   "execution_count": 17,
   "id": "154f2f47-1bc8-4d48-85f6-0775e02f00cc",
   "metadata": {},
   "outputs": [
    {
     "name": "stdout",
     "output_type": "stream",
     "text": [
      "This document appears to be a research paper or article about the Transformer, a sequence transduction model based entirely on attention, which outperforms previous architectures in translation tasks. The authors discuss their approach, its advantages, and future directions for applying attention-based models to other tasks.\n"
     ]
    }
   ],
   "source": [
    "question = \"What is this document about?\"\n",
    "response = qa_chain.invoke({\"query\": question})\n",
    "print(response[\"result\"])"
   ]
  },
  {
   "cell_type": "code",
   "execution_count": 18,
   "id": "939c4925-440f-458e-85be-4b8c772ba0d4",
   "metadata": {},
   "outputs": [
    {
     "name": "stdout",
     "output_type": "stream",
     "text": [
      "The architecture discussed in the model is the Transformer, which is a sequence transduction model based entirely on attention, replacing recurrent layers commonly used in encoder-decoder architectures with multi-headed self-attention.\n"
     ]
    }
   ],
   "source": [
    "question = \"What is the architecture discussed in the model?\"\n",
    "response = qa_chain.invoke({\"query\": question})\n",
    "print(response[\"result\"])"
   ]
  },
  {
   "cell_type": "code",
   "execution_count": null,
   "id": "c5cf37f5-0b6e-42ef-b7e7-a37e2c630aa3",
   "metadata": {},
   "outputs": [],
   "source": []
  }
 ],
 "metadata": {
  "kernelspec": {
   "display_name": "Python 3 (ipykernel)",
   "language": "python",
   "name": "python3"
  },
  "language_info": {
   "codemirror_mode": {
    "name": "ipython",
    "version": 3
   },
   "file_extension": ".py",
   "mimetype": "text/x-python",
   "name": "python",
   "nbconvert_exporter": "python",
   "pygments_lexer": "ipython3",
   "version": "3.12.3"
  }
 },
 "nbformat": 4,
 "nbformat_minor": 5
}
