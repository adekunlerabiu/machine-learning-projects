{
 "cells": [
  {
   "cell_type": "code",
   "execution_count": null,
   "id": "b28c5723-ca2a-4b8b-8485-5c15d4f252b7",
   "metadata": {},
   "outputs": [],
   "source": [
    "import pandas as pd\n",
    "import numpy as np\n",
    "import matplotlib.pyplot as plt\n",
    "import seaborn as sns\n",
    "import plotly.express as px\n",
    "from wordcloud import WordCloud, STOPWORDS, ImageColorGenerator\n",
    "from sklearn.model_selection import train_test_split\n",
    "from sklearn.linear_model import PassiveAggressiveRegressor"
   ]
  },
  {
   "cell_type": "code",
   "execution_count": null,
   "id": "a8157a8a",
   "metadata": {},
   "outputs": [],
   "source": [
    "df = pd.read_csv(\"Instagram-data.csv\", encoding = 'latin1')\n",
    "print(df)"
   ]
  },
  {
   "cell_type": "code",
   "execution_count": null,
   "id": "0f962c99",
   "metadata": {},
   "outputs": [],
   "source": [
    "df.isnull().sum()"
   ]
  },
  {
   "cell_type": "code",
   "execution_count": null,
   "id": "2f37976e",
   "metadata": {},
   "outputs": [],
   "source": [
    "df.info()"
   ]
  },
  {
   "cell_type": "markdown",
   "id": "e1dbaab6",
   "metadata": {},
   "source": [
    "### Analysing our data"
   ]
  },
  {
   "cell_type": "code",
   "execution_count": null,
   "id": "de047b6b",
   "metadata": {},
   "outputs": [],
   "source": [
    "plt.figure(figsize=(10, 8))\n",
    "plt.style.use('fivethirtyeight')\n",
    "plt.title(\"Distribution of Impressions From Home\")\n",
    "sns.distplot(df['From Home'])\n",
    "plt.show()"
   ]
  },
  {
   "cell_type": "code",
   "execution_count": null,
   "id": "dd21617b",
   "metadata": {},
   "outputs": [],
   "source": [
    "plt.figure(figsize=(10, 8))\n",
    "plt.title(\"Distribution of Impressions From Hashtags\")\n",
    "sns.distplot(df['From Hashtags'])\n",
    "plt.show()"
   ]
  },
  {
   "cell_type": "code",
   "execution_count": null,
   "id": "084cf02d",
   "metadata": {},
   "outputs": [],
   "source": [
    "plt.figure(figsize=(10, 8))\n",
    "plt.title(\"Distribution of Impressions From Explore\")\n",
    "sns.distplot(df['From Explore'])\n",
    "plt.show()"
   ]
  },
  {
   "cell_type": "code",
   "execution_count": null,
   "id": "2a6fe4f7",
   "metadata": {},
   "outputs": [],
   "source": [
    "home = df[\"From Home\"].sum()\n",
    "hashtags = df[\"From Hashtags\"].sum()\n",
    "explore = df[\"From Explore\"].sum()\n",
    "other = df[\"From Other\"].sum()\n",
    "\n",
    "labels = ['From Home','From Hashtags','From Explore','Other']\n",
    "values = [home, hashtags, explore, other]\n",
    "\n",
    "fig = px.pie(df, values=values, names=labels, \n",
    "             title='Impressions on Instagram Posts From Various Sources', hole=0.5)\n",
    "fig.show()"
   ]
  },
  {
   "cell_type": "markdown",
   "id": "598a10cb",
   "metadata": {},
   "source": [
    "## Analyzing Content"
   ]
  },
  {
   "cell_type": "code",
   "execution_count": null,
   "id": "ac3a9f33",
   "metadata": {},
   "outputs": [],
   "source": [
    "text = \" \".join(i for i in df.Caption)\n",
    "stopwords = set(STOPWORDS)\n",
    "wordcloud = WordCloud(stopwords=stopwords, background_color=\"white\").generate(text)\n",
    "plt.style.use('classic')\n",
    "plt.figure( figsize=(12,10))\n",
    "plt.imshow(wordcloud, interpolation='bilinear')\n",
    "plt.axis(\"off\")\n",
    "plt.show()"
   ]
  },
  {
   "cell_type": "code",
   "execution_count": null,
   "id": "993be869",
   "metadata": {},
   "outputs": [],
   "source": [
    "text = \" \".join(i for i in df.Hashtags)\n",
    "stopwords = set(STOPWORDS)\n",
    "wordcloud = WordCloud(stopwords=stopwords, background_color=\"white\").generate(text)\n",
    "plt.figure( figsize=(12,10))\n",
    "plt.imshow(wordcloud, interpolation='bilinear')\n",
    "plt.axis(\"off\")\n",
    "plt.show()"
   ]
  },
  {
   "cell_type": "markdown",
   "id": "15a579c1",
   "metadata": {},
   "source": [
    "## Analyzing Relationships"
   ]
  },
  {
   "cell_type": "code",
   "execution_count": null,
   "id": "802b61d8",
   "metadata": {},
   "outputs": [],
   "source": [
    "figure = px.scatter(data_frame = df, x=\"Impressions\",\n",
    "                    y=\"Likes\", size=\"Likes\", trendline=\"ols\", \n",
    "                    title = \"Relationship Between Likes and Impressions\")\n",
    "figure.show()"
   ]
  },
  {
   "cell_type": "code",
   "execution_count": null,
   "id": "e9fe9ebc",
   "metadata": {},
   "outputs": [],
   "source": [
    "figure = px.scatter(data_frame = df, x=\"Impressions\",\n",
    "                    y=\"Comments\", size=\"Comments\", trendline=\"ols\", \n",
    "                    title = \"Relationship Between Comments and Total Impressions\")\n",
    "figure.show()"
   ]
  },
  {
   "cell_type": "code",
   "execution_count": null,
   "id": "46b78e82",
   "metadata": {},
   "outputs": [],
   "source": [
    "figure = px.scatter(data_frame = df, x=\"Impressions\",\n",
    "                    y=\"Shares\", size=\"Shares\", trendline=\"ols\", \n",
    "                    title = \"Relationship Between Shares and Total Impressions\")\n",
    "figure.show()"
   ]
  },
  {
   "cell_type": "code",
   "execution_count": null,
   "id": "877e38d0",
   "metadata": {},
   "outputs": [],
   "source": [
    "figure = px.scatter(data_frame = df, x=\"Impressions\",\n",
    "                    y=\"Saves\", size=\"Saves\", trendline=\"ols\", \n",
    "                    title = \"Relationship Between Post Saves and Total Impressions\")\n",
    "figure.show()"
   ]
  },
  {
   "cell_type": "code",
   "execution_count": null,
   "id": "05228ff9",
   "metadata": {},
   "outputs": [],
   "source": [
    "df_first_11 = df.iloc[:, :11]\n",
    "correlation = df_first_11.corr()\n",
    "print(correlation[\"Impressions\"].sort_values(ascending=False))"
   ]
  },
  {
   "cell_type": "markdown",
   "id": "245bee31",
   "metadata": {},
   "source": [
    "### Analyse the Conversion Rate"
   ]
  },
  {
   "cell_type": "code",
   "execution_count": null,
   "id": "3ffb828b",
   "metadata": {},
   "outputs": [],
   "source": [
    "conversion_rate = (df[\"Follows\"].sum() / df[\"Profile Visits\"].sum()) * 100\n",
    "print(conversion_rate)"
   ]
  },
  {
   "cell_type": "code",
   "execution_count": null,
   "id": "c09dfebf",
   "metadata": {},
   "outputs": [],
   "source": [
    "figure = px.scatter(data_frame = df, x=\"Profile Visits\",\n",
    "                    y=\"Follows\", size=\"Follows\", trendline=\"ols\", \n",
    "                    title = \"Relationship Between Profile Visits and Followers Gained\")\n",
    "figure.show()"
   ]
  },
  {
   "cell_type": "markdown",
   "id": "0b1a7541",
   "metadata": {},
   "source": [
    "## Instagram Reach Prediction"
   ]
  },
  {
   "cell_type": "code",
   "execution_count": null,
   "id": "8ff762f3",
   "metadata": {},
   "outputs": [],
   "source": [
    "np.random.seed(41)\n",
    "x = np.array(df[['Likes', 'Saves', 'Comments', 'Shares', \n",
    "                   'Profile Visits', 'Follows']])\n",
    "y = np.array(df[\"Impressions\"])\n",
    "x_train, x_test, y_train, y_test = train_test_split(x, y,test_size=0.2)\n",
    "model = PassiveAggressiveRegressor()\n",
    "model.fit(x_train, y_train)\n",
    "model.score(x_test, y_test)"
   ]
  },
  {
   "cell_type": "code",
   "execution_count": null,
   "id": "06887b0f",
   "metadata": {},
   "outputs": [],
   "source": [
    "# Prediction = [['Likes','Saves', 'Comments', 'Shares', 'Profile Visits', 'Follows']]\n",
    "preds = np.array([[301.0, 255.0, 5.0, 7.0, 183.0, 62.0]])\n",
    "model.predict(preds)"
   ]
  },
  {
   "cell_type": "code",
   "execution_count": null,
   "id": "e557f1e7",
   "metadata": {},
   "outputs": [],
   "source": []
  }
 ],
 "metadata": {
  "kernelspec": {
   "display_name": "Python 3 (ipykernel)",
   "language": "python",
   "name": "python3"
  },
  "language_info": {
   "codemirror_mode": {
    "name": "ipython",
    "version": 3
   },
   "file_extension": ".py",
   "mimetype": "text/x-python",
   "name": "python",
   "nbconvert_exporter": "python",
   "pygments_lexer": "ipython3",
   "version": "3.12.2"
  }
 },
 "nbformat": 4,
 "nbformat_minor": 5
}
